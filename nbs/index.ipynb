{
 "cells": [
  {
   "cell_type": "code",
   "execution_count": null,
   "metadata": {},
   "outputs": [
    {
     "name": "stdout",
     "output_type": "stream",
     "text": [
      "The autoreload extension is already loaded. To reload it, use:\n",
      "  %reload_ext autoreload\n"
     ]
    }
   ],
   "source": [
    "#| hide\n",
    "%load_ext autoreload\n",
    "%autoreload 2"
   ]
  },
  {
   "cell_type": "markdown",
   "metadata": {},
   "source": [
    "# dydra-py\n",
    "\n",
    "> "
   ]
  },
  {
   "cell_type": "markdown",
   "metadata": {},
   "source": [
    "Tools for working with Dydra.com's SPARQL endpoint."
   ]
  },
  {
   "cell_type": "markdown",
   "metadata": {},
   "source": [
    "## Install"
   ]
  },
  {
   "cell_type": "markdown",
   "metadata": {},
   "source": [
    "```sh\n",
    "pip install git+https://github.com/nakamura196/dydra-py\n",
    "```"
   ]
  },
  {
   "cell_type": "markdown",
   "metadata": {},
   "source": [
    "## How to use"
   ]
  },
  {
   "cell_type": "markdown",
   "metadata": {},
   "source": [
    "[See the documentation](https://nakamura196.github.io/dydra-py/api.html) for full details of the Dydra Client."
   ]
  },
  {
   "cell_type": "markdown",
   "metadata": {},
   "source": [
    "```txt:.env\n",
    "DYDRA_ENDPOINT=https://dydra.com/ut-digital-archives/db/sparql\n",
    "DYDRA_API_KEY=xxxxxx\n",
    "```"
   ]
  },
  {
   "cell_type": "code",
   "execution_count": null,
   "metadata": {},
   "outputs": [
    {
     "data": {
      "text/plain": [
       "'https://dydra.com/ut-digital-archives/db/sparql'"
      ]
     },
     "execution_count": null,
     "metadata": {},
     "output_type": "execute_result"
    }
   ],
   "source": [
    "from dydra_py.api import DydraClient\n",
    "endpoint, api_key = DydraClient.load_env(\"../.env\")\n",
    "client = DydraClient(endpoint, api_key)\n",
    "endpoint"
   ]
  },
  {
   "cell_type": "markdown",
   "metadata": {},
   "source": [
    "### Without graph uri"
   ]
  },
  {
   "cell_type": "markdown",
   "metadata": {},
   "source": [
    "import data from a file"
   ]
  },
  {
   "cell_type": "code",
   "execution_count": null,
   "metadata": {},
   "outputs": [
    {
     "name": "stdout",
     "output_type": "stream",
     "text": [
      "Triple count:  5\n"
     ]
    },
    {
     "name": "stderr",
     "output_type": "stream",
     "text": [
      "100%|██████████| 5/5 [00:00<00:00, 39053.11it/s]\n"
     ]
    },
    {
     "name": "stdout",
     "output_type": "stream",
     "text": [
      "Number of chunks:  1\n"
     ]
    },
    {
     "name": "stderr",
     "output_type": "stream",
     "text": [
      "100%|██████████| 1/1 [00:00<00:00,  1.20it/s]"
     ]
    },
    {
     "name": "stdout",
     "output_type": "stream",
     "text": [
      "Data successfully inserted.\n"
     ]
    },
    {
     "name": "stderr",
     "output_type": "stream",
     "text": [
      "\n"
     ]
    }
   ],
   "source": [
    "client.import_by_file(\"./data.rdf\", \"xml\")"
   ]
  },
  {
   "cell_type": "markdown",
   "metadata": {},
   "source": [
    "delete data from a file"
   ]
  },
  {
   "cell_type": "code",
   "execution_count": null,
   "metadata": {},
   "outputs": [
    {
     "name": "stdout",
     "output_type": "stream",
     "text": [
      "Triple count:  1\n"
     ]
    },
    {
     "name": "stderr",
     "output_type": "stream",
     "text": [
      "100%|██████████| 1/1 [00:00<00:00, 13706.88it/s]\n"
     ]
    },
    {
     "name": "stdout",
     "output_type": "stream",
     "text": [
      "Number of chunks:  1\n"
     ]
    },
    {
     "name": "stderr",
     "output_type": "stream",
     "text": [
      "  0%|          | 0/1 [00:00<?, ?it/s]"
     ]
    }
   ],
   "source": [
    "client.delete_by_file(\"./data_delete.rdf\", \"xml\")"
   ]
  },
  {
   "cell_type": "markdown",
   "metadata": {},
   "source": [
    "delete data by subjects"
   ]
  },
  {
   "cell_type": "code",
   "execution_count": null,
   "metadata": {},
   "outputs": [
    {
     "name": "stderr",
     "output_type": "stream",
     "text": [
      "1it [00:00,  1.09it/s]"
     ]
    },
    {
     "name": "stdout",
     "output_type": "stream",
     "text": [
      "Data for URIs successfully deleted.\n"
     ]
    },
    {
     "name": "stderr",
     "output_type": "stream",
     "text": [
      "\n"
     ]
    }
   ],
   "source": [
    "client.delete_by_subjects([\"http://example.org/BOB\"], verbose=True)"
   ]
  },
  {
   "cell_type": "markdown",
   "metadata": {},
   "source": [
    "search by SPARQL query"
   ]
  },
  {
   "cell_type": "code",
   "execution_count": null,
   "metadata": {},
   "outputs": [
    {
     "data": {
      "text/plain": [
       "{'head': {'vars': ['s', 'v', 'o']},\n",
       " 'results': {'bindings': [{'s': {'type': 'uri',\n",
       "     'value': 'http://example.org/Alice'},\n",
       "    'v': {'type': 'uri', 'value': 'http://example.org/type'},\n",
       "    'o': {'type': 'uri', 'value': 'http://xmlns.com/foaf/0.1/Person'}},\n",
       "   {'s': {'type': 'uri', 'value': 'http://example.org/Alice'},\n",
       "    'v': {'type': 'uri', 'value': 'http://example.org/knows'},\n",
       "    'o': {'type': 'uri', 'value': 'http://example.org/BOB'}}]}}"
      ]
     },
     "execution_count": null,
     "metadata": {},
     "output_type": "execute_result"
    }
   ],
   "source": [
    "query = \"\"\"\n",
    "    SELECT ?s ?v ?o\n",
    "    WHERE { \n",
    "      { ?s ?v ?o }\n",
    "    }\n",
    "\"\"\"\n",
    "\n",
    "df = client.query(query)\n",
    "df"
   ]
  },
  {
   "cell_type": "markdown",
   "metadata": {},
   "source": [
    "clear the graph"
   ]
  },
  {
   "cell_type": "code",
   "execution_count": null,
   "metadata": {},
   "outputs": [
    {
     "name": "stdout",
     "output_type": "stream",
     "text": [
      "Data successfully cleared.\n"
     ]
    }
   ],
   "source": [
    "client.clear()"
   ]
  },
  {
   "cell_type": "markdown",
   "metadata": {},
   "source": [
    "### With graph uri"
   ]
  },
  {
   "cell_type": "code",
   "execution_count": null,
   "metadata": {},
   "outputs": [],
   "source": [
    "graph_uri = \"http://example.org/graph\""
   ]
  },
  {
   "cell_type": "markdown",
   "metadata": {},
   "source": [
    "import data from a file"
   ]
  },
  {
   "cell_type": "code",
   "execution_count": null,
   "metadata": {},
   "outputs": [
    {
     "name": "stdout",
     "output_type": "stream",
     "text": [
      "Triple count:  5\n"
     ]
    },
    {
     "name": "stderr",
     "output_type": "stream",
     "text": [
      "100%|██████████| 5/5 [00:00<00:00, 44715.39it/s]\n"
     ]
    },
    {
     "name": "stdout",
     "output_type": "stream",
     "text": [
      "Number of chunks:  1\n"
     ]
    },
    {
     "name": "stderr",
     "output_type": "stream",
     "text": [
      "100%|██████████| 1/1 [00:00<00:00,  1.25it/s]"
     ]
    },
    {
     "name": "stdout",
     "output_type": "stream",
     "text": [
      "Data successfully inserted.\n"
     ]
    },
    {
     "name": "stderr",
     "output_type": "stream",
     "text": [
      "\n"
     ]
    }
   ],
   "source": [
    "client.import_by_file(\"./data.rdf\", \"xml\", graph_uri=graph_uri)"
   ]
  },
  {
   "cell_type": "markdown",
   "metadata": {},
   "source": [
    "search by SPARQL query"
   ]
  },
  {
   "cell_type": "code",
   "execution_count": null,
   "metadata": {},
   "outputs": [
    {
     "data": {
      "text/plain": [
       "{'head': {'vars': ['g', 's', 'v', 'o']},\n",
       " 'results': {'bindings': [{'g': {'type': 'uri',\n",
       "     'value': 'http://example.org/graph'},\n",
       "    's': {'type': 'uri', 'value': 'http://example.org/Alice'},\n",
       "    'v': {'type': 'uri', 'value': 'http://example.org/type'},\n",
       "    'o': {'type': 'uri', 'value': 'http://xmlns.com/foaf/0.1/Person'}},\n",
       "   {'g': {'type': 'uri', 'value': 'http://example.org/graph'},\n",
       "    's': {'type': 'uri', 'value': 'http://example.org/Alice'},\n",
       "    'v': {'type': 'uri', 'value': 'http://example.org/knows'},\n",
       "    'o': {'type': 'uri', 'value': 'http://example.org/BOB'}},\n",
       "   {'g': {'type': 'uri', 'value': 'http://example.org/graph'},\n",
       "    's': {'type': 'uri', 'value': 'http://example.org/BOB'},\n",
       "    'v': {'type': 'uri', 'value': 'http://xmlns.com/foaf/0.1/topic_interest'},\n",
       "    'o': {'type': 'uri',\n",
       "     'value': 'https://jpsearch.go.jp/entity/chname/葛飾北斎'}},\n",
       "   {'g': {'type': 'uri', 'value': 'http://example.org/graph'},\n",
       "    's': {'type': 'uri', 'value': 'http://example.org/BOB'},\n",
       "    'v': {'type': 'uri', 'value': 'http://example.org/type'},\n",
       "    'o': {'type': 'uri', 'value': 'http://xmlns.com/foaf/0.1/Person'}},\n",
       "   {'g': {'type': 'uri', 'value': 'http://example.org/graph'},\n",
       "    's': {'type': 'uri', 'value': 'http://example.org/BOB'},\n",
       "    'v': {'type': 'uri', 'value': 'http://example.org/knows'},\n",
       "    'o': {'type': 'uri', 'value': 'http://example.org/Alice'}}]}}"
      ]
     },
     "execution_count": null,
     "metadata": {},
     "output_type": "execute_result"
    }
   ],
   "source": [
    "query = \"\"\"\n",
    "    SELECT ?g ?s ?v ?o\n",
    "    WHERE { \n",
    "      graph ?g { ?s ?v ?o }\n",
    "    }\n",
    "\"\"\"\n",
    "\n",
    "df = client.query(query)\n",
    "df"
   ]
  },
  {
   "cell_type": "markdown",
   "metadata": {},
   "source": [
    "clear the graph"
   ]
  },
  {
   "cell_type": "code",
   "execution_count": null,
   "metadata": {},
   "outputs": [
    {
     "name": "stdout",
     "output_type": "stream",
     "text": [
      "Data successfully cleared.\n"
     ]
    }
   ],
   "source": [
    "client.clear(graph_uri=graph_uri)"
   ]
  }
 ],
 "metadata": {
  "kernelspec": {
   "display_name": "python3",
   "language": "python",
   "name": "python3"
  }
 },
 "nbformat": 4,
 "nbformat_minor": 4
}
