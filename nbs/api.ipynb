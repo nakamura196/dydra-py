{
 "cells": [
  {
   "cell_type": "markdown",
   "metadata": {},
   "source": [
    "# Dydra API client\n",
    "\n",
    "> Tools to interact with the Dydra API"
   ]
  },
  {
   "cell_type": "code",
   "execution_count": null,
   "metadata": {},
   "outputs": [],
   "source": [
    "#| default_exp api"
   ]
  },
  {
   "cell_type": "code",
   "execution_count": null,
   "metadata": {},
   "outputs": [],
   "source": [
    "#| hide\n",
    "from nbdev.showdoc import *"
   ]
  },
  {
   "cell_type": "code",
   "execution_count": null,
   "metadata": {},
   "outputs": [],
   "source": [
    "#| export\n",
    "import requests\n",
    "import rdflib\n",
    "from dotenv import load_dotenv\n",
    "import os\n",
    "from SPARQLWrapper import SPARQLWrapper, JSON"
   ]
  },
  {
   "cell_type": "code",
   "execution_count": null,
   "metadata": {},
   "outputs": [],
   "source": [
    "#| export\n",
    "class DydraClient():    \n",
    "    \"\"\"\n",
    "    A client for interacting with a Dydra SPARQL endpoint.\n",
    "\n",
    "    Attributes:\n",
    "        endpoint (str): The SPARQL endpoint URL.\n",
    "        api_key (str): The API key for authorization.\n",
    "    \"\"\"\n",
    "\n",
    "    @staticmethod\n",
    "    def load_env(path):\n",
    "        \"\"\"\n",
    "        Loads environment variables from a specified .env file.\n",
    "        \n",
    "        Args:\n",
    "            path (str): Path to the .env file.\n",
    "            \n",
    "        Returns:\n",
    "            tuple: Contains the endpoint and API key as strings.\n",
    "        \"\"\"\n",
    "\n",
    "        load_dotenv(path)\n",
    "\n",
    "        return os.getenv(\"DYDRA_ENDPOINT\"), os.getenv(\"DYDRA_API_KEY\")\n",
    "\n",
    "\n",
    "    def __init__(self, endpoint, api_key):\n",
    "        \"\"\"\n",
    "        Initializes the DydraClient with the given endpoint and API key.\n",
    "        \n",
    "        Args:\n",
    "            endpoint (str): The SPARQL endpoint URL.\n",
    "            api_key (str): The API key for authorization.\n",
    "        \"\"\"\n",
    "        self.endpoint = endpoint\n",
    "        self.api_key = api_key\n",
    "\n",
    "    def import_by_file(self, file_path, format, graph_uri=None):\n",
    "        \"\"\"\n",
    "        Imports RDF data from a file into the Dydra store.\n",
    "\n",
    "        Args:\n",
    "            file_path (str): The path to the RDF file to import.\n",
    "            format (str): The format of the RDF file (e.g., 'xml', 'nt').\n",
    "            graph_uri (str, optional): URI of the graph where data will be inserted. Defaults to None.\n",
    "        \"\"\"\n",
    "\n",
    "        headers = {\n",
    "            \"Authorization\": f\"Bearer {self.api_key}\",\n",
    "            \"Content-Type\": \"application/sparql-update\"\n",
    "        }\n",
    "\n",
    "        # RDFファイルの読み込み\n",
    "        graph = rdflib.Graph()\n",
    "        graph.parse(file_path, format=format)  # フォーマットはファイルに応じて変更\n",
    "\n",
    "        nt_data = graph.serialize(format='nt')\n",
    "\n",
    "        if graph_uri is None:\n",
    "            query = f\"\"\"\n",
    "            INSERT DATA {{\n",
    "            {nt_data}\n",
    "            }}\n",
    "            \"\"\"\n",
    "\n",
    "        else:\n",
    "            query = f\"\"\"\n",
    "            INSERT DATA {{\n",
    "            GRAPH <{graph_uri}> {{\n",
    "                {nt_data}\n",
    "            }}\n",
    "            }}\n",
    "            \"\"\"\n",
    "\n",
    "        \n",
    "\n",
    "        response = requests.post(self.endpoint, data=query, headers=headers)\n",
    "        if response.status_code == 200:\n",
    "            print(\"Data successfully inserted.\")\n",
    "        else:\n",
    "            print(f\"Error: {response.status_code} {response.text}\")\n",
    "\n",
    "    def query(self, query):\n",
    "        \"\"\"\n",
    "        Executes a SPARQL query against the endpoint and returns the results.\n",
    "\n",
    "        Args:\n",
    "            query (str): The SPARQL query to execute.\n",
    "\n",
    "        Returns:\n",
    "            dict: The query results in JSON format.\n",
    "        \"\"\"\n",
    "\n",
    "        # SPARQLエンドポイントの設定\n",
    "        sparql = SPARQLWrapper(self.endpoint)\n",
    "\n",
    "        # クエリの設定\n",
    "        sparql.setQuery(query)\n",
    "        sparql.setReturnFormat(JSON)\n",
    "\n",
    "        results = sparql.query().convert()\n",
    "\n",
    "        return results\n",
    "    \n",
    "    def clear(self, graph_uri=None):\n",
    "        \"\"\"\n",
    "        Clears all data from the default or specified graph.\n",
    "\n",
    "        Args:\n",
    "            graph_uri (str, optional): URI of the graph to clear. Defaults to None.\n",
    "        \"\"\"\n",
    "\n",
    "        headers = {\n",
    "            \"Authorization\": f\"Bearer {self.api_key}\",\n",
    "            \"Content-Type\": \"application/sparql-update\"\n",
    "        }\n",
    "\n",
    "        if graph_uri is None:\n",
    "            query = \"\"\"\n",
    "            DELETE {\n",
    "            ?s ?p ?o\n",
    "            }\n",
    "            WHERE {\n",
    "            ?s ?p ?o\n",
    "            }\n",
    "            \"\"\"\n",
    "\n",
    "        else:\n",
    "            query = f\"\"\"\n",
    "            DELETE {{\n",
    "            GRAPH <{graph_uri}> {{\n",
    "                ?s ?p ?o\n",
    "            }}\n",
    "            }}\n",
    "            WHERE {{\n",
    "            GRAPH <{graph_uri}> {{\n",
    "                ?s ?p ?o\n",
    "            }}\n",
    "            }}\n",
    "            \"\"\"\n",
    "\n",
    "        response = requests.post(self.endpoint, data=query, headers=headers)\n",
    "\n",
    "        if response.status_code == 200:\n",
    "            print(\"Data successfully cleared.\")\n",
    "        else:\n",
    "            print(f\"Error: {response.status_code} {response.text}\")\n"
   ]
  },
  {
   "cell_type": "code",
   "execution_count": null,
   "metadata": {},
   "outputs": [
    {
     "data": {
      "text/markdown": [
       "---\n",
       "\n",
       "[source](https://github.com/nakamura196/dydra-py/blob/main/dydra_py/core.py#L29){target=\"_blank\" style=\"float:right; font-size:smaller\"}\n",
       "\n",
       "### DydraClient.import_by_file\n",
       "\n",
       ">      DydraClient.import_by_file (file_path, format, graph_uri=None)\n",
       "\n",
       "*Imports RDF data from a file into the Dydra store.\n",
       "\n",
       "Args:\n",
       "    file_path (str): The path to the RDF file to import.\n",
       "    format (str): The format of the RDF file (e.g., 'xml', 'nt').\n",
       "    graph_uri (str, optional): URI of the graph where data will be inserted. Defaults to None.*"
      ],
      "text/plain": [
       "---\n",
       "\n",
       "[source](https://github.com/nakamura196/dydra-py/blob/main/dydra_py/core.py#L29){target=\"_blank\" style=\"float:right; font-size:smaller\"}\n",
       "\n",
       "### DydraClient.import_by_file\n",
       "\n",
       ">      DydraClient.import_by_file (file_path, format, graph_uri=None)\n",
       "\n",
       "*Imports RDF data from a file into the Dydra store.\n",
       "\n",
       "Args:\n",
       "    file_path (str): The path to the RDF file to import.\n",
       "    format (str): The format of the RDF file (e.g., 'xml', 'nt').\n",
       "    graph_uri (str, optional): URI of the graph where data will be inserted. Defaults to None.*"
      ]
     },
     "execution_count": null,
     "metadata": {},
     "output_type": "execute_result"
    }
   ],
   "source": [
    "show_doc(DydraClient.import_by_file)"
   ]
  },
  {
   "cell_type": "code",
   "execution_count": null,
   "metadata": {},
   "outputs": [
    {
     "data": {
      "text/markdown": [
       "---\n",
       "\n",
       "[source](https://github.com/nakamura196/dydra-py/blob/main/dydra_py/core.py#L66){target=\"_blank\" style=\"float:right; font-size:smaller\"}\n",
       "\n",
       "### DydraClient.query\n",
       "\n",
       ">      DydraClient.query (query)\n",
       "\n",
       "*Executes a SPARQL query against the endpoint and returns the results.\n",
       "\n",
       "Args:\n",
       "    query (str): The SPARQL query to execute.\n",
       "\n",
       "Returns:\n",
       "    dict: The query results in JSON format.*"
      ],
      "text/plain": [
       "---\n",
       "\n",
       "[source](https://github.com/nakamura196/dydra-py/blob/main/dydra_py/core.py#L66){target=\"_blank\" style=\"float:right; font-size:smaller\"}\n",
       "\n",
       "### DydraClient.query\n",
       "\n",
       ">      DydraClient.query (query)\n",
       "\n",
       "*Executes a SPARQL query against the endpoint and returns the results.\n",
       "\n",
       "Args:\n",
       "    query (str): The SPARQL query to execute.\n",
       "\n",
       "Returns:\n",
       "    dict: The query results in JSON format.*"
      ]
     },
     "execution_count": null,
     "metadata": {},
     "output_type": "execute_result"
    }
   ],
   "source": [
    "show_doc(DydraClient.query)"
   ]
  },
  {
   "cell_type": "code",
   "execution_count": null,
   "metadata": {},
   "outputs": [
    {
     "data": {
      "text/markdown": [
       "---\n",
       "\n",
       "[source](https://github.com/nakamura196/dydra-py/blob/main/dydra_py/core.py#L82){target=\"_blank\" style=\"float:right; font-size:smaller\"}\n",
       "\n",
       "### DydraClient.clear\n",
       "\n",
       ">      DydraClient.clear (graph_uri=None)\n",
       "\n",
       "*Clears all data from the default or specified graph.\n",
       "\n",
       "Args:\n",
       "    graph_uri (str, optional): URI of the graph to clear. Defaults to None.*"
      ],
      "text/plain": [
       "---\n",
       "\n",
       "[source](https://github.com/nakamura196/dydra-py/blob/main/dydra_py/core.py#L82){target=\"_blank\" style=\"float:right; font-size:smaller\"}\n",
       "\n",
       "### DydraClient.clear\n",
       "\n",
       ">      DydraClient.clear (graph_uri=None)\n",
       "\n",
       "*Clears all data from the default or specified graph.\n",
       "\n",
       "Args:\n",
       "    graph_uri (str, optional): URI of the graph to clear. Defaults to None.*"
      ]
     },
     "execution_count": null,
     "metadata": {},
     "output_type": "execute_result"
    }
   ],
   "source": [
    "show_doc(DydraClient.clear)"
   ]
  },
  {
   "cell_type": "code",
   "execution_count": null,
   "metadata": {},
   "outputs": [],
   "source": [
    "#| hide\n",
    "import nbdev; nbdev.nbdev_export()"
   ]
  }
 ],
 "metadata": {
  "kernelspec": {
   "display_name": "python3",
   "language": "python",
   "name": "python3"
  }
 },
 "nbformat": 4,
 "nbformat_minor": 4
}
